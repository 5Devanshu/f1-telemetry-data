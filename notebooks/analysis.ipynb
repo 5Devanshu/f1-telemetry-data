{
 "cells": [
  {
   "cell_type": "code",
   "execution_count": null,
   "id": "7b70224d",
   "metadata": {
    "vscode": {
     "languageId": "plaintext"
    }
   },
   "outputs": [],
   "source": [
    "from pyspark.sql import SparkSession\n",
    "\n",
    "spark = SparkSession.builder.appName(\"F1TelemetryAnalysis\").getOrCreate()\n",
    "df = spark.read.parquet(\"s3a://f1-telemetry/transformed/f1/\")\n",
    "\n",
    "df.createOrReplaceTempView(\"laps\")\n",
    "\n",
    "result = spark.sql(\"\"\"\n",
    "SELECT driver_number, AVG(sector1_time + sector2_time + sector3_time) AS avg_lap_time\n",
    "FROM laps\n",
    "GROUP BY driver_number\n",
    "ORDER BY avg_lap_time ASC\n",
    "\"\"\")\n",
    "\n",
    "result.show()\n"
   ]
  }
 ],
 "metadata": {
  "language_info": {
   "name": "python"
  }
 },
 "nbformat": 4,
 "nbformat_minor": 5
}
